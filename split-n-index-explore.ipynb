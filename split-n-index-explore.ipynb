{
 "cells": [
  {
   "cell_type": "code",
   "execution_count": null,
   "id": "e11c4cf7",
   "metadata": {},
   "outputs": [],
   "source": [
    "from pathlib import Path\n",
    "import numpy as np"
   ]
  },
  {
   "cell_type": "code",
   "execution_count": null,
   "id": "62c61e4e",
   "metadata": {},
   "outputs": [],
   "source": [
    "dataset=\"datasets/CLOUDf48.bin.f32\"\n",
    "datatype=np.float32\n",
    "dataset_shape=[100,500,500]\n",
    "procs=4\n",
    "procs_shape=[4,5,10]"
   ]
  },
  {
   "cell_type": "code",
   "execution_count": null,
   "id": "588aab25",
   "metadata": {},
   "outputs": [],
   "source": [
    "pwd=globals()['_dh'][0]"
   ]
  },
  {
   "cell_type": "code",
   "execution_count": null,
   "id": "8af9ef4a",
   "metadata": {},
   "outputs": [],
   "source": [
    "input_path = pwd + \"/\" + dataset\n",
    "input_data = np.fromfile(input_path, dtype=datatype).reshape(dataset_shape)"
   ]
  },
  {
   "cell_type": "code",
   "execution_count": null,
   "id": "8223676a",
   "metadata": {},
   "outputs": [],
   "source": [
    "input_data = np.array_split(input_data, procs_shape[2], axis=0)"
   ]
  },
  {
   "cell_type": "code",
   "execution_count": null,
   "id": "32647a8b",
   "metadata": {},
   "outputs": [],
   "source": [
    "np.shape(input_data)"
   ]
  },
  {
   "cell_type": "code",
   "execution_count": null,
   "id": "cfff8308",
   "metadata": {},
   "outputs": [],
   "source": [
    "for z in input_data:\n",
    "    input_data = np.array_split(z, procs_shape[2], axis=0)\n",
    "input_data = np.array_split(input_data, procs_shape[2], axis=0)"
   ]
  },
  {
   "cell_type": "code",
   "execution_count": null,
   "id": "974f7b9d",
   "metadata": {},
   "outputs": [],
   "source": [
    "np.shape(input_data)"
   ]
  },
  {
   "cell_type": "markdown",
   "id": "67034bd9",
   "metadata": {},
   "source": [
    "## Explore multidim split \n",
    "\n",
    "https://stackoverflow.com/questions/42297115/numpy-split-cube-into-cubes"
   ]
  },
  {
   "cell_type": "code",
   "execution_count": null,
   "id": "386d0cef",
   "metadata": {},
   "outputs": [],
   "source": [
    "arr = np.arange(4*4*4).reshape(4,4,4)"
   ]
  },
  {
   "cell_type": "code",
   "execution_count": null,
   "id": "41718831",
   "metadata": {},
   "outputs": [],
   "source": [
    "arr"
   ]
  },
  {
   "cell_type": "code",
   "execution_count": null,
   "id": "8535a07c",
   "metadata": {},
   "outputs": [],
   "source": [
    "arr.reshape(2,2,2,2,2,2).transpose(0,2,4,1,3,5).reshape(-1,2,2,2)"
   ]
  },
  {
   "cell_type": "code",
   "execution_count": null,
   "id": "3843ea7b",
   "metadata": {},
   "outputs": [],
   "source": [
    "np.shape(arr.reshape(2,2,2,2,2,2).transpose(0,2,4,1,3,5).reshape(-1,2,2,2))"
   ]
  },
  {
   "cell_type": "code",
   "execution_count": null,
   "id": "19879c14",
   "metadata": {},
   "outputs": [],
   "source": [
    "def cubify(arr, newshape):\n",
    "    oldshape = np.array(arr.shape)\n",
    "    repeats = (oldshape / newshape).astype(int)\n",
    "    tmpshape = np.column_stack([repeats, newshape]).ravel()\n",
    "    order = np.arange(len(tmpshape))\n",
    "    order = np.concatenate([order[::2], order[1::2]])\n",
    "    # newshape must divide oldshape evenly or else ValueError will be raised\n",
    "    return arr.reshape(tmpshape).transpose(order).reshape(-1, *newshape)\n"
   ]
  },
  {
   "cell_type": "code",
   "execution_count": null,
   "id": "c69b872c",
   "metadata": {},
   "outputs": [],
   "source": [
    "newshape=cubify(input_data, (25, 250, 250) )"
   ]
  },
  {
   "cell_type": "code",
   "execution_count": null,
   "id": "82177dc9",
   "metadata": {},
   "outputs": [],
   "source": [
    "np.shape(newshape)"
   ]
  },
  {
   "cell_type": "code",
   "execution_count": null,
   "id": "d163f4cb",
   "metadata": {},
   "outputs": [],
   "source": [
    "newshape"
   ]
  }
 ],
 "metadata": {
  "language_info": {
   "name": "python",
   "pygments_lexer": "ipython3"
  }
 },
 "nbformat": 4,
 "nbformat_minor": 5
}
