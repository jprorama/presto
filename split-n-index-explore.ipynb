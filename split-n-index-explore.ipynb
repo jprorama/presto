{
 "cells": [
  {
   "cell_type": "code",
   "execution_count": null,
   "id": "e11c4cf7",
   "metadata": {},
   "outputs": [],
   "source": [
    "from pathlib import Path\n",
    "import numpy as np"
   ]
  },
  {
   "cell_type": "code",
   "execution_count": null,
   "id": "62c61e4e",
   "metadata": {},
   "outputs": [],
   "source": [
    "dataset=\"datasets/CLOUDf48.bin.f32\"\n",
    "datatype=np.float32\n",
    "dataset_shape=[100,500,500]\n",
    "procs=4\n",
    "procs_shape=[4,5,10]"
   ]
  },
  {
   "cell_type": "code",
   "execution_count": null,
   "id": "588aab25",
   "metadata": {},
   "outputs": [],
   "source": [
    "pwd=globals()['_dh'][0]"
   ]
  },
  {
   "cell_type": "code",
   "execution_count": null,
   "id": "8af9ef4a",
   "metadata": {},
   "outputs": [],
   "source": [
    "input_path = pwd + \"/\" + dataset\n",
    "input_data = np.fromfile(input_path, dtype=datatype).reshape(dataset_shape)"
   ]
  },
  {
   "cell_type": "code",
   "execution_count": null,
   "id": "8223676a",
   "metadata": {},
   "outputs": [],
   "source": [
    "input_data = np.array_split(input_data, procs_shape[2], axis=0)"
   ]
  },
  {
   "cell_type": "code",
   "execution_count": null,
   "id": "32647a8b",
   "metadata": {},
   "outputs": [],
   "source": [
    "np.shape(input_data)"
   ]
  },
  {
   "cell_type": "code",
   "execution_count": null,
   "id": "cfff8308",
   "metadata": {},
   "outputs": [],
   "source": [
    "for z in input_data:\n",
    "    input_data = np.array_split(z, procs_shape[2], axis=0)\n",
    "input_data = np.array_split(input_data, procs_shape[2], axis=0)"
   ]
  },
  {
   "cell_type": "code",
   "execution_count": null,
   "id": "974f7b9d",
   "metadata": {},
   "outputs": [],
   "source": [
    "np.shape(input_data)"
   ]
  },
  {
   "cell_type": "markdown",
   "id": "67034bd9",
   "metadata": {},
   "source": [
    "## Explore multidim split \n",
    "\n",
    "https://stackoverflow.com/questions/42297115/numpy-split-cube-into-cubes\n",
    "\n",
    "Text below from post:\n",
    "\n",
    "Suppose the cube has shape (W, H, D) and you wish to break it up into N little cubes of shape (w, h, d). Since NumPy arrays have axes of fixed length, w must evenly divide W, and similarly for h and d.\n",
    "\n",
    "Then there is a way to reshape the cube of shape (W, H, D) into a new array of shape (N, w, h, d).\n",
    "\n",
    "For example, if arr = np.arange(4*4*4).reshape(4,4,4) (so (W,H,D) = (4,4,4)) and we wish to break it up into cubes of shape (2,2,2), then we could use"
   ]
  },
  {
   "cell_type": "code",
   "execution_count": null,
   "id": "386d0cef",
   "metadata": {},
   "outputs": [],
   "source": [
    "arr = np.arange(4*4*4).reshape(4,4,4)"
   ]
  },
  {
   "cell_type": "code",
   "execution_count": null,
   "id": "1b0b253f",
   "metadata": {},
   "outputs": [],
   "source": [
    "arr"
   ]
  },
  {
   "cell_type": "markdown",
   "id": "008e96bf",
   "metadata": {},
   "source": [
    "You can think of reshaping as first raveling the array (using the given index order), then inserting the elements from the raveled array into the new array using the same kind of index ordering as was used for the raveling."
   ]
  },
  {
   "cell_type": "code",
   "execution_count": null,
   "id": "41718831",
   "metadata": {},
   "outputs": [],
   "source": [
    "arr.ravel()"
   ]
  },
  {
   "cell_type": "markdown",
   "id": "5447907a",
   "metadata": {},
   "source": [
    "seems as though dimensions for np.reshape(z,y,x)\n",
    "\n",
    "no its (x,y,z) (rows, cols, layers)\n",
    "easier to see in 2D\n",
    "\n",
    "the outer-most array has 4 elements (rows), each with 6 elements (columns)"
   ]
  },
  {
   "cell_type": "code",
   "execution_count": null,
   "id": "1e4460ba",
   "metadata": {},
   "outputs": [],
   "source": [
    "c = np.arange(24).reshape((4, 6))\n",
    "print(c)"
   ]
  },
  {
   "cell_type": "code",
   "execution_count": null,
   "id": "93fef871",
   "metadata": {},
   "outputs": [],
   "source": [
    "c[3][5] # row 3 col 5"
   ]
  },
  {
   "cell_type": "markdown",
   "id": "a2ff99bd",
   "metadata": {},
   "source": [
    "below i reshape to 2 rows in outermost, next has "
   ]
  },
  {
   "cell_type": "code",
   "execution_count": null,
   "id": "aab25c85",
   "metadata": {},
   "outputs": [],
   "source": [
    "arr.ravel().reshape(2,8,4, order='C')"
   ]
  },
  {
   "cell_type": "code",
   "execution_count": null,
   "id": "6e9c1973",
   "metadata": {},
   "outputs": [],
   "source": [
    "arr.ravel().reshape(2,8,4, order='C')[1][3][0] # col 0, row 3, z=1 (layer 2)"
   ]
  },
  {
   "cell_type": "markdown",
   "id": "8a7fa462",
   "metadata": {},
   "source": [
    "actualy its more like (z, row, col), that is consistent with (z, y (row is up/down), x (col is left/right)\n",
    "so the col is always innermost, then is the row, then is the stacking"
   ]
  },
  {
   "cell_type": "code",
   "execution_count": null,
   "id": "edfadf70",
   "metadata": {},
   "outputs": [],
   "source": [
    "arr.ravel().reshape(2,2,1,2,2,4)"
   ]
  },
  {
   "cell_type": "code",
   "execution_count": null,
   "id": "1f397d45",
   "metadata": {},
   "outputs": [],
   "source": [
    "arr.ravel().reshape(2,2,1,2,4,2).transpose(0,2,4,1,3,5)"
   ]
  },
  {
   "cell_type": "code",
   "execution_count": null,
   "id": "3c3d2ae0",
   "metadata": {},
   "outputs": [],
   "source": [
    "a1 = np.arange(4*4*4).reshape(4,4,4)"
   ]
  },
  {
   "cell_type": "code",
   "execution_count": null,
   "id": "533024ba",
   "metadata": {},
   "outputs": [],
   "source": [
    "a1.reshape(2,2,1,2,4,2)"
   ]
  },
  {
   "cell_type": "code",
   "execution_count": null,
   "id": "3e753dbb",
   "metadata": {},
   "outputs": [],
   "source": [
    "arr.ravel().reshape(2,2,2,2,2,2)"
   ]
  },
  {
   "cell_type": "code",
   "execution_count": null,
   "id": "de9fea0b",
   "metadata": {},
   "outputs": [],
   "source": [
    "a1.shape"
   ]
  },
  {
   "cell_type": "code",
   "execution_count": null,
   "id": "8535a07c",
   "metadata": {},
   "outputs": [],
   "source": [
    "arr.reshape(2,2,2,2,2,2).transpose(0,2,4,1,3,5).reshape(-1,2,2,2)"
   ]
  },
  {
   "cell_type": "code",
   "execution_count": null,
   "id": "3843ea7b",
   "metadata": {},
   "outputs": [],
   "source": [
    "np.shape(arr.reshape(2,2,2,2,2,2).transpose(0,2,4,1,3,5).reshape(-1,2,2,2))"
   ]
  },
  {
   "cell_type": "code",
   "execution_count": null,
   "id": "7d41ccd8",
   "metadata": {},
   "outputs": [],
   "source": [
    "arr.shape"
   ]
  },
  {
   "cell_type": "code",
   "execution_count": null,
   "id": "ec7c4a0f",
   "metadata": {},
   "outputs": [],
   "source": [
    "arr"
   ]
  },
  {
   "cell_type": "markdown",
   "id": "efe45332",
   "metadata": {},
   "source": [
    "## Explore cubify contributed code"
   ]
  },
  {
   "cell_type": "code",
   "execution_count": null,
   "id": "1223a6df",
   "metadata": {},
   "outputs": [],
   "source": [
    "np.array([10**n for n in [-6, -5]])"
   ]
  },
  {
   "cell_type": "code",
   "execution_count": null,
   "id": "def40050",
   "metadata": {},
   "outputs": [],
   "source": [
    "np.logspace(-6, -5, num=3)"
   ]
  },
  {
   "cell_type": "code",
   "execution_count": null,
   "id": "19879c14",
   "metadata": {},
   "outputs": [],
   "source": [
    "def cubify(arr, newshape):\n",
    "    oldshape = np.array(arr.shape)\n",
    "    repeats = (oldshape / newshape).astype(int)\n",
    "    tmpshape = np.column_stack([repeats, newshape]).ravel()\n",
    "    order = np.arange(len(tmpshape))\n",
    "    order = np.concatenate([order[::2], order[1::2]])\n",
    "    # newshape must divide oldshape evenly or else ValueError will be raised\n",
    "    return arr.reshape(tmpshape).transpose(order).reshape(-1, *newshape)\n"
   ]
  },
  {
   "cell_type": "code",
   "execution_count": null,
   "id": "fd10315a",
   "metadata": {},
   "outputs": [],
   "source": [
    "np.column_stack([(2,2,2),(4,2,2)])#.ravel()"
   ]
  },
  {
   "cell_type": "code",
   "execution_count": null,
   "id": "30121e1b",
   "metadata": {},
   "outputs": [],
   "source": [
    "np.column_stack([(2,2,2),(4,2,2)]).ravel()"
   ]
  },
  {
   "cell_type": "code",
   "execution_count": null,
   "id": "9cfd1818",
   "metadata": {},
   "outputs": [],
   "source": [
    "order=np.arange(6)"
   ]
  },
  {
   "cell_type": "code",
   "execution_count": null,
   "id": "67bc1dc2",
   "metadata": {},
   "outputs": [],
   "source": [
    "order[::2]"
   ]
  },
  {
   "cell_type": "code",
   "execution_count": null,
   "id": "367025ec",
   "metadata": {},
   "outputs": [],
   "source": [
    "order[1::2]"
   ]
  },
  {
   "cell_type": "code",
   "execution_count": null,
   "id": "9c0c6e3e",
   "metadata": {},
   "outputs": [],
   "source": [
    "np.concatenate([order[::2], order[1::2]])"
   ]
  },
  {
   "cell_type": "code",
   "execution_count": null,
   "id": "be7fba05",
   "metadata": {},
   "outputs": [],
   "source": [
    "cubify(arr, (2,2,2))"
   ]
  },
  {
   "cell_type": "code",
   "execution_count": null,
   "id": "95758779",
   "metadata": {},
   "outputs": [],
   "source": [
    "cubify(arr, (4,4,4)).shape[0]"
   ]
  },
  {
   "cell_type": "code",
   "execution_count": null,
   "id": "74ea0e1a",
   "metadata": {},
   "outputs": [],
   "source": [
    "input_path = pwd + \"/\" + dataset\n",
    "input_data = np.fromfile(input_path, dtype=datatype).reshape(dataset_shape)"
   ]
  },
  {
   "cell_type": "code",
   "execution_count": null,
   "id": "c69b872c",
   "metadata": {},
   "outputs": [],
   "source": [
    "newshape=cubify(input_data, (25, 250, 250) )"
   ]
  },
  {
   "cell_type": "code",
   "execution_count": null,
   "id": "82177dc9",
   "metadata": {},
   "outputs": [],
   "source": [
    "np.shape(newshape)"
   ]
  },
  {
   "cell_type": "code",
   "execution_count": null,
   "id": "d163f4cb",
   "metadata": {},
   "outputs": [],
   "source": [
    "newshape"
   ]
  }
 ],
 "metadata": {
  "language_info": {
   "name": "python",
   "pygments_lexer": "ipython3"
  }
 },
 "nbformat": 4,
 "nbformat_minor": 5
}
