{
 "cells": [
  {
   "cell_type": "code",
   "execution_count": null,
   "id": "54fc314e",
   "metadata": {},
   "outputs": [],
   "source": [
    "import matplotlib.pyplot as plt\n",
    "import numpy as np\n",
    "import subprocess as sp\n",
    "from scipy.interpolate import interpn"
   ]
  },
  {
   "cell_type": "code",
   "execution_count": null,
   "id": "9667e4fc",
   "metadata": {},
   "outputs": [],
   "source": [
    "def read_dist(filename):\n",
    "    with open(filename) as f:\n",
    "        #w, h = [int(x) for x in next(f).split()] # read first line\n",
    "        ys = []\n",
    "        for line in f: # read rest of lines\n",
    "            ys.append([int(x) for x in line.split()])\n",
    "        return ys"
   ]
  },
  {
   "cell_type": "code",
   "execution_count": null,
   "id": "09d6e89b",
   "metadata": {},
   "outputs": [],
   "source": [
    "def get_compress_size(dataset, compressor=\"sz\", nprocs=1, shape=\"100x500x500\"):\n",
    "    '''\n",
    "    calls the libpressio container via runcmd wrapper\n",
    "    returns the compressed size across the given commpressor and \n",
    "    process count extracted from json\n",
    "    '''\n",
    "    result = sp.run(f\"./runcmd data_dist.py -n {nprocs} -j {dataset} --shape {shape} | jq '.{compressor}[].metrics[\\\"size:compressed_size\\\"]'\",\n",
    "          shell=True, check=True, capture_output=True, text=False)\n",
    "    \n",
    "    return [int(x) for x in str(result.stdout, encoding='utf-8').splitlines()]"
   ]
  },
  {
   "cell_type": "code",
   "execution_count": null,
   "id": "985d5e17",
   "metadata": {},
   "outputs": [],
   "source": [
    "def plot_compress(ys):\n",
    "    xs = [x for x in range(len(ys))]\n",
    "    plt.plot(xs, ys)\n",
    "    plt.show()\n",
    "    # Make sure to close the plt object once done\n",
    "    plt.close()"
   ]
  },
  {
   "cell_type": "code",
   "execution_count": null,
   "id": "a8ac3b92",
   "metadata": {},
   "outputs": [],
   "source": [
    "def plot_hist(ys, bins=10):\n",
    "    npa = np.asarray(ys, dtype=np.float32)\n",
    "    plt.hist(npa, bins)\n",
    "    plt.show()"
   ]
  },
  {
   "cell_type": "code",
   "execution_count": null,
   "id": "4b705591",
   "metadata": {},
   "outputs": [],
   "source": [
    "ys=get_compress_size(dataset=\"datasets/CLOUDf48.bin.f32\", compressor=\"zfp\", nprocs=\"100\")"
   ]
  },
  {
   "cell_type": "code",
   "execution_count": null,
   "id": "370d05b0",
   "metadata": {},
   "outputs": [],
   "source": [
    "plot_compress(ys)"
   ]
  },
  {
   "cell_type": "code",
   "execution_count": null,
   "id": "cb7c65fa",
   "metadata": {},
   "outputs": [],
   "source": [
    "plot_hist(ys)"
   ]
  },
  {
   "cell_type": "code",
   "execution_count": null,
   "id": "2cf969c2",
   "metadata": {},
   "outputs": [],
   "source": [
    "ys=read_dist('sz-100-slice')"
   ]
  },
  {
   "cell_type": "code",
   "execution_count": null,
   "id": "b1a15860",
   "metadata": {},
   "outputs": [],
   "source": [
    "plot_compress(ys)"
   ]
  },
  {
   "cell_type": "code",
   "execution_count": null,
   "id": "828f563d",
   "metadata": {},
   "outputs": [],
   "source": [
    "plot_hist(ys)"
   ]
  },
  {
   "cell_type": "code",
   "execution_count": null,
   "id": "5ba9f9a2",
   "metadata": {},
   "outputs": [],
   "source": [
    "ys=read_dist('zfp-25-slice')"
   ]
  },
  {
   "cell_type": "code",
   "execution_count": null,
   "id": "a02cffbf",
   "metadata": {},
   "outputs": [],
   "source": [
    "plot_compress(ys)"
   ]
  },
  {
   "cell_type": "code",
   "execution_count": null,
   "id": "3bebfdce",
   "metadata": {},
   "outputs": [],
   "source": [
    "plot_hist(ys)"
   ]
  },
  {
   "cell_type": "code",
   "execution_count": null,
   "id": "3738444a",
   "metadata": {},
   "outputs": [],
   "source": [
    "ys=read_dist('sz-25-slice')"
   ]
  },
  {
   "cell_type": "code",
   "execution_count": null,
   "id": "e2cfaffa",
   "metadata": {},
   "outputs": [],
   "source": [
    "plot_compress(ys)"
   ]
  },
  {
   "cell_type": "code",
   "execution_count": null,
   "id": "55c1b328",
   "metadata": {},
   "outputs": [],
   "source": [
    "plot_hist(ys)"
   ]
  },
  {
   "cell_type": "markdown",
   "id": "5f9b39f0",
   "metadata": {},
   "source": [
    "## Test 1D interpolations\n",
    "\n",
    "https://docs.scipy.org/doc/scipy/tutorial/interpolate/1D.html"
   ]
  },
  {
   "cell_type": "code",
   "execution_count": null,
   "id": "b40d243b",
   "metadata": {},
   "outputs": [],
   "source": [
    "def gen_1d(y, orig, new):\n",
    "    npy=np.array(y)\n",
    "    xnew = np.linspace(0, len(npy), num=new)\n",
    "    return np.interp(xnew, range(len(npy)), npy)"
   ]
  },
  {
   "cell_type": "code",
   "execution_count": null,
   "id": "ae827895",
   "metadata": {},
   "outputs": [],
   "source": [
    "sample=4"
   ]
  },
  {
   "cell_type": "code",
   "execution_count": null,
   "id": "b3c66fd3",
   "metadata": {},
   "outputs": [],
   "source": [
    "scale=10"
   ]
  },
  {
   "cell_type": "code",
   "execution_count": null,
   "id": "0abf297f",
   "metadata": {},
   "outputs": [],
   "source": [
    "ys=get_compress_size(dataset=\"datasets/CLOUDf48.bin.f32\", compressor=\"zfp\", nprocs=sample)"
   ]
  },
  {
   "cell_type": "code",
   "execution_count": null,
   "id": "f5d8b139",
   "metadata": {},
   "outputs": [],
   "source": [
    "plot_compress(ys)"
   ]
  },
  {
   "cell_type": "code",
   "execution_count": null,
   "id": "fc676a1b",
   "metadata": {},
   "outputs": [],
   "source": [
    "plot_compress(gen_1d(ys, sample, scale))"
   ]
  },
  {
   "cell_type": "code",
   "execution_count": null,
   "id": "e48bc5d2",
   "metadata": {},
   "outputs": [],
   "source": [
    "plot_compress(gen_1d(ys, sample, 100))"
   ]
  },
  {
   "cell_type": "code",
   "execution_count": null,
   "id": "028e777c",
   "metadata": {},
   "outputs": [],
   "source": [
    "sample=100"
   ]
  },
  {
   "cell_type": "code",
   "execution_count": null,
   "id": "c071ceb6",
   "metadata": {},
   "outputs": [],
   "source": [
    "ys=get_compress_size(dataset=\"datasets/CLOUDf48.bin.f32\", compressor=\"zfp\", nprocs=sample)"
   ]
  },
  {
   "cell_type": "code",
   "execution_count": null,
   "id": "33289f5a",
   "metadata": {},
   "outputs": [],
   "source": [
    "plot_compress(ys)"
   ]
  },
  {
   "cell_type": "code",
   "execution_count": null,
   "id": "fb0c5023",
   "metadata": {},
   "outputs": [],
   "source": [
    "sample"
   ]
  },
  {
   "cell_type": "code",
   "execution_count": null,
   "id": "6976ca44",
   "metadata": {},
   "outputs": [],
   "source": [
    "plot_compress(gen_1d(ys, sample, 1000))"
   ]
  },
  {
   "cell_type": "code",
   "execution_count": null,
   "id": "a7b1b096",
   "metadata": {},
   "outputs": [],
   "source": [
    "plot_hist(ys, 50)"
   ]
  },
  {
   "cell_type": "code",
   "execution_count": null,
   "id": "8a892282",
   "metadata": {},
   "outputs": [],
   "source": [
    "plot_hist(gen_1d(ys, sample, 1000), 50)"
   ]
  },
  {
   "cell_type": "markdown",
   "id": "2e7013d2",
   "metadata": {},
   "source": [
    "## Tri-linear with scipy interpn\n",
    "\n",
    "Documentation of [interpn()](https://docs.scipy.org/doc/scipy/reference/generated/scipy.interpolate.interpn.html#scipy.interpolate.interpn)\n",
    "\n",
    "Code based on example from documentation"
   ]
  },
  {
   "cell_type": "code",
   "execution_count": null,
   "id": "a228a241",
   "metadata": {},
   "outputs": [],
   "source": [
    "ys=get_compress_size(dataset=\"datasets/CLOUDf48.bin.f32\", compressor=\"zfp\", nprocs=\"25\")"
   ]
  },
  {
   "cell_type": "code",
   "execution_count": null,
   "id": "7564e0fa",
   "metadata": {},
   "outputs": [],
   "source": [
    "g_truth = get_compress_size(dataset=\"datasets/CLOUDf48.bin.f32\", compressor=\"zfp\", nprocs=\"100\")"
   ]
  },
  {
   "cell_type": "code",
   "execution_count": null,
   "id": "0aebc5be",
   "metadata": {},
   "outputs": [],
   "source": [
    "ys=np.array(ys)"
   ]
  },
  {
   "cell_type": "code",
   "execution_count": null,
   "id": "dfe267fe",
   "metadata": {},
   "outputs": [],
   "source": [
    "yidx = np.array(range(len(ys)))"
   ]
  },
  {
   "cell_type": "code",
   "execution_count": null,
   "id": "ec069cad",
   "metadata": {},
   "outputs": [],
   "source": [
    "yidx"
   ]
  },
  {
   "cell_type": "code",
   "execution_count": null,
   "id": "fb064097",
   "metadata": {},
   "outputs": [],
   "source": [
    "newy = np.linspace(0, len(ys)-1, 100)"
   ]
  },
  {
   "cell_type": "code",
   "execution_count": null,
   "id": "1d19ead3",
   "metadata": {},
   "outputs": [],
   "source": [
    "genval=interpn((yidx,), ys, newy)"
   ]
  },
  {
   "cell_type": "code",
   "execution_count": null,
   "id": "bb089925",
   "metadata": {},
   "outputs": [],
   "source": [
    "plot_compress(ys)"
   ]
  },
  {
   "cell_type": "code",
   "execution_count": null,
   "id": "f3c7457c",
   "metadata": {},
   "outputs": [],
   "source": [
    "plot_compress(genval)"
   ]
  },
  {
   "cell_type": "code",
   "execution_count": null,
   "id": "c47c0b67",
   "metadata": {},
   "outputs": [],
   "source": [
    "plot_compress(g_truth)"
   ]
  },
  {
   "cell_type": "code",
   "execution_count": null,
   "id": "b730d30b",
   "metadata": {},
   "outputs": [],
   "source": [
    "plot_hist(ys)"
   ]
  },
  {
   "cell_type": "code",
   "execution_count": null,
   "id": "3aafe007",
   "metadata": {},
   "outputs": [],
   "source": [
    "plot_hist(genval)"
   ]
  },
  {
   "cell_type": "code",
   "execution_count": null,
   "id": "da62c16a",
   "metadata": {},
   "outputs": [],
   "source": [
    "plot_hist(g_truth)"
   ]
  },
  {
   "cell_type": "markdown",
   "id": "6316eba0",
   "metadata": {},
   "source": [
    "## Cubify data set "
   ]
  },
  {
   "cell_type": "code",
   "execution_count": null,
   "id": "9da531d0",
   "metadata": {},
   "outputs": [],
   "source": [
    "def cubify(arr, newshape):\n",
    "    '''\n",
    "    Reshape 3D shape into new 3D shape\n",
    "    \n",
    "    Credit: https://stackoverflow.com/a/42298440\n",
    "    Tutorial for reshaping: https://realpython.com/numpy-reshape/\n",
    "    '''\n",
    "    oldshape = np.array(arr.shape)\n",
    "    repeats = (oldshape / newshape).astype(int)\n",
    "    tmpshape = np.column_stack([repeats, newshape]).ravel()\n",
    "    order = np.arange(len(tmpshape))\n",
    "    order = np.concatenate([order[::2], order[1::2]])\n",
    "    # newshape must divide oldshape evenly or else ValueError will be raised\n",
    "    return arr.reshape(tmpshape).transpose(order).reshape(-1, *newshape)\n"
   ]
  },
  {
   "cell_type": "code",
   "execution_count": null,
   "id": "3fbeea0d",
   "metadata": {},
   "outputs": [],
   "source": [
    "dataset=\"datasets/CLOUDf48.bin.f32\"\n",
    "datatype=np.float32\n",
    "dataset_shape=[100,500,500]\n",
    "procs=4\n",
    "procs_shape=[4,5,10]"
   ]
  },
  {
   "cell_type": "code",
   "execution_count": null,
   "id": "328b1822",
   "metadata": {},
   "outputs": [],
   "source": [
    "pwd=globals()['_dh'][0]"
   ]
  },
  {
   "cell_type": "code",
   "execution_count": null,
   "id": "57ca32a3",
   "metadata": {},
   "outputs": [],
   "source": [
    "input_path = pwd + \"/\" + dataset\n",
    "input_data = np.fromfile(input_path, dtype=datatype).reshape(dataset_shape)"
   ]
  },
  {
   "cell_type": "code",
   "execution_count": null,
   "id": "d9faf5d6",
   "metadata": {},
   "outputs": [],
   "source": [
    "newshape=cubify(input_data, (25, 250, 250) )"
   ]
  },
  {
   "cell_type": "code",
   "execution_count": null,
   "id": "0f1f3f3e",
   "metadata": {},
   "outputs": [],
   "source": [
    "n, z, y, x = np.shape(newshape)"
   ]
  },
  {
   "cell_type": "code",
   "execution_count": null,
   "id": "92a9474a",
   "metadata": {},
   "outputs": [],
   "source": [
    "newshape[0].shape"
   ]
  },
  {
   "cell_type": "code",
   "execution_count": null,
   "id": "128a4383",
   "metadata": {},
   "outputs": [],
   "source": [
    "ys = []"
   ]
  },
  {
   "cell_type": "code",
   "execution_count": null,
   "id": "483c3ab4",
   "metadata": {},
   "outputs": [],
   "source": [
    "for i in range(n):\n",
    "    newshape[i].tofile(\"datasets/part.f32\")\n",
    "    csize=get_compress_size(dataset=\"datasets/part.f32\", compressor=\"zfp\", nprocs=\"1\", shape=\"25x250x250\")\n",
    "    ys.append(csize)"
   ]
  },
  {
   "cell_type": "code",
   "execution_count": null,
   "id": "b9a47e90",
   "metadata": {},
   "outputs": [],
   "source": [
    "ys = np.array(ys)"
   ]
  },
  {
   "cell_type": "code",
   "execution_count": null,
   "id": "1d9ec760",
   "metadata": {},
   "outputs": [],
   "source": [
    "plot_compress(ys)"
   ]
  },
  {
   "cell_type": "code",
   "execution_count": null,
   "id": "6178e150",
   "metadata": {},
   "outputs": [],
   "source": [
    "plot_hist(ys)"
   ]
  },
  {
   "cell_type": "code",
   "execution_count": null,
   "id": "a92d830a",
   "metadata": {},
   "outputs": [],
   "source": [
    "ys.shape"
   ]
  },
  {
   "cell_type": "code",
   "execution_count": null,
   "id": "8b6404ab",
   "metadata": {},
   "outputs": [],
   "source": [
    "ys"
   ]
  },
  {
   "cell_type": "code",
   "execution_count": null,
   "id": "73aaa3f0",
   "metadata": {},
   "outputs": [],
   "source": [
    "ys.reshape(2,2,4)"
   ]
  },
  {
   "cell_type": "code",
   "execution_count": null,
   "id": "bea0f4c8",
   "metadata": {},
   "outputs": [],
   "source": [
    "ys.reshape(4,1,4)"
   ]
  },
  {
   "cell_type": "code",
   "execution_count": null,
   "id": "647b1874",
   "metadata": {},
   "outputs": [],
   "source": [
    "ysbase = ys.reshape(2,2,4)"
   ]
  },
  {
   "cell_type": "code",
   "execution_count": null,
   "id": "fb1fac5e",
   "metadata": {},
   "outputs": [],
   "source": [
    "ysbase"
   ]
  },
  {
   "cell_type": "markdown",
   "id": "4bdffb3f",
   "metadata": {},
   "source": [
    "## Explore 3D interpolation"
   ]
  },
  {
   "cell_type": "markdown",
   "id": "bffcd6f4",
   "metadata": {},
   "source": [
    "Example from [RegularGridInterpolator](https://docs.scipy.org/doc/scipy/reference/generated/scipy.interpolate.RegularGridInterpolator.html#scipy.interpolate.RegularGridInterpolator)"
   ]
  },
  {
   "cell_type": "code",
   "execution_count": null,
   "id": "e2b51d41",
   "metadata": {},
   "outputs": [],
   "source": [
    "from scipy.interpolate import RegularGridInterpolator\n",
    "\n",
    "import numpy as np\n",
    "\n",
    "def f(x, y, z):\n",
    "\n",
    "    return 2 * x**3 + 3 * y**2 - z\n",
    "\n",
    "x = np.linspace(1, 4, 11)\n",
    "\n",
    "y = np.linspace(4, 7, 22)\n",
    "\n",
    "z = np.linspace(7, 9, 33)\n",
    "\n",
    "xg, yg ,zg = np.meshgrid(x, y, z, indexing='ij', sparse=True)\n",
    "\n",
    "data = f(xg, yg, zg)"
   ]
  },
  {
   "cell_type": "code",
   "execution_count": null,
   "id": "609f01d2",
   "metadata": {},
   "outputs": [],
   "source": [
    "data.shape"
   ]
  },
  {
   "cell_type": "code",
   "execution_count": null,
   "id": "fe7cd029",
   "metadata": {},
   "outputs": [],
   "source": [
    "x.shape"
   ]
  },
  {
   "cell_type": "code",
   "execution_count": null,
   "id": "5fc5dfbc",
   "metadata": {},
   "outputs": [],
   "source": [
    "zg.shape"
   ]
  },
  {
   "cell_type": "code",
   "execution_count": null,
   "id": "bf6a151a",
   "metadata": {},
   "outputs": [],
   "source": [
    "interp = RegularGridInterpolator((x, y, z), data)"
   ]
  },
  {
   "cell_type": "code",
   "execution_count": null,
   "id": "34bcc5f1",
   "metadata": {},
   "outputs": [],
   "source": [
    "interp"
   ]
  },
  {
   "cell_type": "code",
   "execution_count": null,
   "id": "a305ad1d",
   "metadata": {},
   "outputs": [],
   "source": [
    "pts = np.array([[2.1, 6.2, 8.3],\n",
    "\n",
    "                [3.3, 5.2, 7.1]])\n",
    "\n",
    "interp(pts)"
   ]
  },
  {
   "cell_type": "code",
   "execution_count": null,
   "id": "336a8582",
   "metadata": {},
   "outputs": [],
   "source": [
    "pts.shape"
   ]
  },
  {
   "cell_type": "code",
   "execution_count": null,
   "id": "114ac1aa",
   "metadata": {},
   "outputs": [],
   "source": [
    "x"
   ]
  },
  {
   "cell_type": "code",
   "execution_count": null,
   "id": "3f24078f",
   "metadata": {},
   "outputs": [],
   "source": [
    "y"
   ]
  },
  {
   "cell_type": "code",
   "execution_count": null,
   "id": "0c98d877",
   "metadata": {},
   "outputs": [],
   "source": [
    "z"
   ]
  },
  {
   "cell_type": "code",
   "execution_count": null,
   "id": "d031827f",
   "metadata": {},
   "outputs": [],
   "source": [
    "f(2.1, 6.2, 8.3), f(3.3, 5.2, 7.1)"
   ]
  },
  {
   "cell_type": "code",
   "execution_count": null,
   "id": "c2a53528",
   "metadata": {},
   "outputs": [],
   "source": [
    "newx = np.linspace(1, 4, 22)\n",
    "newy = np.linspace(4, 7, 33)\n",
    "newz = np.linspace(7, 9, 44)"
   ]
  },
  {
   "cell_type": "code",
   "execution_count": null,
   "id": "5964d870",
   "metadata": {},
   "outputs": [],
   "source": [
    "newx"
   ]
  },
  {
   "cell_type": "code",
   "execution_count": null,
   "id": "e5d39b99",
   "metadata": {},
   "outputs": [],
   "source": [
    "nxg, nyg ,nzg = np.meshgrid(newx, newy, newz, indexing='ij', sparse=True)"
   ]
  },
  {
   "cell_type": "code",
   "execution_count": null,
   "id": "9dd0c038",
   "metadata": {},
   "outputs": [],
   "source": [
    "nxg.shape"
   ]
  },
  {
   "cell_type": "code",
   "execution_count": null,
   "id": "fbb48124",
   "metadata": {},
   "outputs": [],
   "source": [
    "nxg"
   ]
  },
  {
   "cell_type": "code",
   "execution_count": null,
   "id": "34c1f4da",
   "metadata": {},
   "outputs": [],
   "source": [
    "npts = np.array([nxg, nyg, nzg])"
   ]
  },
  {
   "cell_type": "code",
   "execution_count": null,
   "id": "977a3e39",
   "metadata": {},
   "outputs": [],
   "source": [
    "npts = np.linspace([1,4,7], [4,7,9], 10)"
   ]
  },
  {
   "cell_type": "code",
   "execution_count": null,
   "id": "4562da51",
   "metadata": {},
   "outputs": [],
   "source": [
    "npts.shape"
   ]
  },
  {
   "cell_type": "code",
   "execution_count": null,
   "id": "f1857e2d",
   "metadata": {},
   "outputs": [],
   "source": [
    "npts"
   ]
  },
  {
   "cell_type": "code",
   "execution_count": null,
   "id": "69b0b4ec",
   "metadata": {},
   "outputs": [],
   "source": [
    "interp(npts)"
   ]
  },
  {
   "cell_type": "code",
   "execution_count": null,
   "id": "ae048a55",
   "metadata": {},
   "outputs": [],
   "source": [
    "np.array(np.meshgrid([1, 2, 3], [4, 5], [6, 7]))#.shape#.T#.reshape(-1,3)"
   ]
  },
  {
   "cell_type": "code",
   "execution_count": null,
   "id": "61c2c9c7",
   "metadata": {},
   "outputs": [],
   "source": [
    "np.array(np.meshgrid([1, 2, 3], [4, 5], [6, 7])).T"
   ]
  },
  {
   "cell_type": "code",
   "execution_count": null,
   "id": "c688a8ce",
   "metadata": {},
   "outputs": [],
   "source": [
    "np.array(np.meshgrid([1, 2, 3], [4, 5], [6, 7])).T.reshape(-1,3)"
   ]
  },
  {
   "cell_type": "code",
   "execution_count": null,
   "id": "2ee329c6",
   "metadata": {},
   "outputs": [],
   "source": [
    "newpts = np.array(np.meshgrid(newx, newy, newz)).T.reshape(-1,3)"
   ]
  },
  {
   "cell_type": "code",
   "execution_count": null,
   "id": "16e2a2f6",
   "metadata": {},
   "outputs": [],
   "source": [
    "newpts.shape"
   ]
  },
  {
   "cell_type": "code",
   "execution_count": null,
   "id": "36d32d0d",
   "metadata": {},
   "outputs": [],
   "source": [
    "22*33*44"
   ]
  },
  {
   "cell_type": "code",
   "execution_count": null,
   "id": "42da0b68",
   "metadata": {},
   "outputs": [],
   "source": [
    "newpts"
   ]
  },
  {
   "cell_type": "code",
   "execution_count": null,
   "id": "0e53a17f",
   "metadata": {},
   "outputs": [],
   "source": [
    "interp(newpts).reshape(22,33,44).shape"
   ]
  },
  {
   "cell_type": "markdown",
   "id": "2d1d66b1",
   "metadata": {},
   "source": [
    "## Reshape 2x2x4 process space of compressed data"
   ]
  },
  {
   "cell_type": "code",
   "execution_count": null,
   "id": "4c4bca9a",
   "metadata": {},
   "outputs": [],
   "source": [
    "plot_compress(ys)"
   ]
  },
  {
   "cell_type": "code",
   "execution_count": null,
   "id": "fea9c6ab",
   "metadata": {},
   "outputs": [],
   "source": [
    "plot_hist(ys)"
   ]
  },
  {
   "cell_type": "code",
   "execution_count": null,
   "id": "38b33e11",
   "metadata": {},
   "outputs": [],
   "source": [
    "ys"
   ]
  },
  {
   "cell_type": "code",
   "execution_count": null,
   "id": "b2e535af",
   "metadata": {},
   "outputs": [],
   "source": [
    "# process compression (pc) results 4 slices of 2x2 processes (25,250,250) data sizes\n",
    "pc_data = ys.reshape(4,2,2)"
   ]
  },
  {
   "cell_type": "code",
   "execution_count": null,
   "id": "50cf478d",
   "metadata": {},
   "outputs": [],
   "source": [
    "pc_data"
   ]
  },
  {
   "cell_type": "markdown",
   "id": "011b4ffc",
   "metadata": {},
   "source": [
    "Create 4x2x2 index mesh"
   ]
  },
  {
   "cell_type": "code",
   "execution_count": null,
   "id": "ec552d1e",
   "metadata": {},
   "outputs": [],
   "source": [
    "x=np.arange(2)\n",
    "\n",
    "y=np.arange(2)\n",
    "\n",
    "z=np.arange(4)"
   ]
  },
  {
   "cell_type": "markdown",
   "id": "36b4fa44",
   "metadata": {},
   "source": [
    "create mesh grid for process compression interpolation"
   ]
  },
  {
   "cell_type": "code",
   "execution_count": null,
   "id": "373eab4d",
   "metadata": {},
   "outputs": [],
   "source": [
    "pc_data.shape"
   ]
  },
  {
   "cell_type": "code",
   "execution_count": null,
   "id": "7925e3e3",
   "metadata": {},
   "outputs": [],
   "source": [
    "(z,x,y)"
   ]
  },
  {
   "cell_type": "code",
   "execution_count": null,
   "id": "3a25e90b",
   "metadata": {},
   "outputs": [],
   "source": [
    "c_space = RegularGridInterpolator((z, x, y), pc_data)"
   ]
  },
  {
   "cell_type": "markdown",
   "id": "62a457d0",
   "metadata": {},
   "source": [
    "### Test various points in source xyz space and confirm that the input values are returned"
   ]
  },
  {
   "cell_type": "code",
   "execution_count": null,
   "id": "9fa4cbc0",
   "metadata": {},
   "outputs": [],
   "source": [
    "c_space([0,0,0])"
   ]
  },
  {
   "cell_type": "code",
   "execution_count": null,
   "id": "59cc0447",
   "metadata": {},
   "outputs": [],
   "source": [
    "c_space([0,0,1])"
   ]
  },
  {
   "cell_type": "markdown",
   "id": "180bb641",
   "metadata": {},
   "source": [
    "works with floats too"
   ]
  },
  {
   "cell_type": "code",
   "execution_count": null,
   "id": "cabdc232",
   "metadata": {},
   "outputs": [],
   "source": [
    "c_space([0.0,0.0,1.0])"
   ]
  },
  {
   "cell_type": "code",
   "execution_count": null,
   "id": "f92b4182",
   "metadata": {},
   "outputs": [],
   "source": [
    "c_space([1,1,1])"
   ]
  },
  {
   "cell_type": "code",
   "execution_count": null,
   "id": "2a95b166",
   "metadata": {},
   "outputs": [],
   "source": [
    "c_space([1.0,1.0,1.0])"
   ]
  },
  {
   "cell_type": "code",
   "execution_count": null,
   "id": "b59d945a",
   "metadata": {},
   "outputs": [],
   "source": [
    "c_space([3,0,0])"
   ]
  },
  {
   "cell_type": "code",
   "execution_count": null,
   "id": "d9b0ffed",
   "metadata": {},
   "outputs": [],
   "source": [
    "c_space([3.0,0.0,0.0])"
   ]
  },
  {
   "cell_type": "markdown",
   "id": "741026f4",
   "metadata": {},
   "source": [
    "on interpolation point along x-axis"
   ]
  },
  {
   "cell_type": "code",
   "execution_count": null,
   "id": "2d169bbc",
   "metadata": {},
   "outputs": [],
   "source": [
    "c_space([0.0,0.0,0.333333])"
   ]
  },
  {
   "cell_type": "markdown",
   "id": "de55d31e",
   "metadata": {},
   "source": [
    "### create index points for interpolation of scale up mesh size\n",
    "\n",
    "use linspace since we have to stay in the range of the original dimensions to interpolate values.\n",
    "\n",
    "we can convert to integer indices after the interpolated values have been created."
   ]
  },
  {
   "cell_type": "code",
   "execution_count": null,
   "id": "cf7e1ada",
   "metadata": {},
   "outputs": [],
   "source": [
    "scale=2"
   ]
  },
  {
   "cell_type": "code",
   "execution_count": null,
   "id": "7f0fa897",
   "metadata": {},
   "outputs": [],
   "source": [
    "len(x)"
   ]
  },
  {
   "cell_type": "code",
   "execution_count": null,
   "id": "30381484",
   "metadata": {},
   "outputs": [],
   "source": [
    "newx=np.linspace(x[0],x[-1],len(x)*scale)\n",
    "newy=np.linspace(y[0],y[-1],len(y)*scale)\n",
    "newz=np.linspace(z[0],z[-1],len(z)*scale)"
   ]
  },
  {
   "cell_type": "code",
   "execution_count": null,
   "id": "1416b823",
   "metadata": {},
   "outputs": [],
   "source": [
    "newx"
   ]
  },
  {
   "cell_type": "code",
   "execution_count": null,
   "id": "6d339904",
   "metadata": {},
   "outputs": [],
   "source": [
    "newy"
   ]
  },
  {
   "cell_type": "code",
   "execution_count": null,
   "id": "6cdac328",
   "metadata": {},
   "outputs": [],
   "source": [
    "newz"
   ]
  },
  {
   "cell_type": "markdown",
   "id": "94633fce",
   "metadata": {},
   "source": [
    "### generate all the points to interpolate for the new mesh"
   ]
  },
  {
   "cell_type": "code",
   "execution_count": null,
   "id": "13f6fbf5",
   "metadata": {},
   "outputs": [],
   "source": [
    "zslices_grid = np.array(np.meshgrid(newx, newy, newz)).T.reshape(-1,3)"
   ]
  },
  {
   "cell_type": "code",
   "execution_count": null,
   "id": "b1284284",
   "metadata": {},
   "outputs": [],
   "source": [
    "np.meshgrid(newz, newy, newx)"
   ]
  },
  {
   "cell_type": "code",
   "execution_count": null,
   "id": "ff2bfb00",
   "metadata": {},
   "outputs": [],
   "source": [
    "np.array(np.meshgrid(newz, newy, newx))"
   ]
  },
  {
   "cell_type": "code",
   "execution_count": null,
   "id": "afc3c273",
   "metadata": {},
   "outputs": [],
   "source": [
    "np.array(np.meshgrid(newz, newy, newx)).T#.shape"
   ]
  },
  {
   "cell_type": "code",
   "execution_count": null,
   "id": "49f77619",
   "metadata": {},
   "outputs": [],
   "source": [
    "np.array(np.meshgrid(newz, newx, newy)).T.reshape(-1,3)"
   ]
  },
  {
   "cell_type": "code",
   "execution_count": null,
   "id": "91575742",
   "metadata": {},
   "outputs": [],
   "source": [
    "newgrid = np.array(np.meshgrid(newz, newx, newy)).T.reshape(-1,3)"
   ]
  },
  {
   "cell_type": "code",
   "execution_count": null,
   "id": "ae20e57d",
   "metadata": {},
   "outputs": [],
   "source": [
    "newgrid"
   ]
  },
  {
   "cell_type": "markdown",
   "id": "98986deb",
   "metadata": {},
   "source": [
    "#### Manually create index collection since meshgrid seems intractable\n",
    "\n",
    "Can't get meshgrid to return the index order of z,y,x needed by the RegularGridInterpolator.\n",
    "\n",
    "Use a for loop stack to work around this for now."
   ]
  },
  {
   "cell_type": "code",
   "execution_count": null,
   "id": "73aa1fdd",
   "metadata": {},
   "outputs": [],
   "source": [
    "darray = np.zeros((len(newx)*len(newy)*len(newz),3))"
   ]
  },
  {
   "cell_type": "code",
   "execution_count": null,
   "id": "31089d63",
   "metadata": {},
   "outputs": [],
   "source": [
    "i = 0\n",
    "\n",
    "for zval in newz:\n",
    "    for yval in newy:\n",
    "        for xval in newx:\n",
    "            darray[i] = [z, y, x]\n",
    "            i+=1"
   ]
  },
  {
   "cell_type": "code",
   "execution_count": null,
   "id": "1f0796c1",
   "metadata": {},
   "outputs": [],
   "source": [
    "darray"
   ]
  },
  {
   "cell_type": "code",
   "execution_count": null,
   "id": "9afe95fe",
   "metadata": {},
   "outputs": [],
   "source": [
    "newgrid = darray"
   ]
  },
  {
   "cell_type": "markdown",
   "id": "dd0d7078",
   "metadata": {},
   "source": [
    "#### Confirm correct number of points are generated\n",
    "\n",
    "We generate the correct number of points for a 2x scaled up 4x2x2 "
   ]
  },
  {
   "cell_type": "code",
   "execution_count": null,
   "id": "bcace163",
   "metadata": {},
   "outputs": [],
   "source": [
    "newgrid.shape"
   ]
  },
  {
   "cell_type": "code",
   "execution_count": null,
   "id": "264243a8",
   "metadata": {},
   "outputs": [],
   "source": [
    "len(z)*scale*len(x)*scale*len(y)*scale"
   ]
  },
  {
   "cell_type": "code",
   "execution_count": null,
   "id": "d1e5a055",
   "metadata": {},
   "outputs": [],
   "source": [
    "len(c_space(newgrid))"
   ]
  },
  {
   "cell_type": "code",
   "execution_count": null,
   "id": "e7ab5114",
   "metadata": {},
   "outputs": [],
   "source": [
    "c_space(newgrid)"
   ]
  },
  {
   "cell_type": "markdown",
   "id": "20ce9100",
   "metadata": {},
   "source": [
    "### Create interpolated commpression points"
   ]
  },
  {
   "cell_type": "code",
   "execution_count": null,
   "id": "099e9725",
   "metadata": {},
   "outputs": [],
   "source": [
    "pc_data"
   ]
  },
  {
   "cell_type": "code",
   "execution_count": null,
   "id": "9a8c4e93",
   "metadata": {},
   "outputs": [],
   "source": [
    "c_space(newgrid)"
   ]
  },
  {
   "cell_type": "code",
   "execution_count": null,
   "id": "f989b138",
   "metadata": {},
   "outputs": [],
   "source": [
    "gen_compress = c_space(newgrid).reshape(len(z)*scale, len(y)*scale, len(x)*scale)#.T"
   ]
  },
  {
   "cell_type": "markdown",
   "id": "7e4c6813",
   "metadata": {},
   "source": [
    "reference source model"
   ]
  },
  {
   "cell_type": "code",
   "execution_count": null,
   "id": "458b8db3",
   "metadata": {},
   "outputs": [],
   "source": [
    "pc_data"
   ]
  },
  {
   "cell_type": "code",
   "execution_count": null,
   "id": "8becbbe0",
   "metadata": {},
   "outputs": [],
   "source": [
    "gen_compress"
   ]
  },
  {
   "cell_type": "code",
   "execution_count": null,
   "id": "f13750ec",
   "metadata": {},
   "outputs": [],
   "source": [
    "gen_compress[0,3,3]"
   ]
  },
  {
   "cell_type": "code",
   "execution_count": null,
   "id": "dbe79725",
   "metadata": {},
   "outputs": [],
   "source": [
    "plot_hist(ys)"
   ]
  },
  {
   "cell_type": "code",
   "execution_count": null,
   "id": "63d5754c",
   "metadata": {},
   "outputs": [],
   "source": [
    "plot_hist(gen_compress.reshape(-1))"
   ]
  },
  {
   "cell_type": "code",
   "execution_count": null,
   "id": "0a373829",
   "metadata": {},
   "outputs": [],
   "source": [
    "plot_compress(ys)"
   ]
  },
  {
   "cell_type": "code",
   "execution_count": null,
   "id": "6dfef10f",
   "metadata": {},
   "outputs": [],
   "source": [
    "plot_compress(gen_compress.reshape(-1))"
   ]
  }
 ],
 "metadata": {
  "language_info": {
   "name": "python",
   "pygments_lexer": "ipython3"
  }
 },
 "nbformat": 4,
 "nbformat_minor": 5
}
