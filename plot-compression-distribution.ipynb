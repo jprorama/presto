{
 "cells": [
  {
   "cell_type": "code",
   "execution_count": null,
   "id": "54fc314e",
   "metadata": {},
   "outputs": [],
   "source": [
    "import matplotlib.pyplot as plt\n",
    "import numpy as np\n",
    "import subprocess as sp\n",
    "from scipy.interpolate import interpn"
   ]
  },
  {
   "cell_type": "code",
   "execution_count": null,
   "id": "9667e4fc",
   "metadata": {},
   "outputs": [],
   "source": [
    "def read_dist(filename):\n",
    "    with open(filename) as f:\n",
    "        #w, h = [int(x) for x in next(f).split()] # read first line\n",
    "        ys = []\n",
    "        for line in f: # read rest of lines\n",
    "            ys.append([int(x) for x in line.split()])\n",
    "        return ys"
   ]
  },
  {
   "cell_type": "code",
   "execution_count": null,
   "id": "09d6e89b",
   "metadata": {},
   "outputs": [],
   "source": [
    "def get_compress_size(dataset, compressor=\"sz\", nprocs=1):\n",
    "    '''\n",
    "    calls the libpressio container via runcmd wrapper\n",
    "    returns the compressed size across the given commpressor and \n",
    "    process count extracted from json\n",
    "    '''\n",
    "    result = sp.run(f\"./runcmd data_dist.py -n {nprocs} -j {dataset} | jq '.{compressor}[].metrics[\\\"size:compressed_size\\\"]'\",\n",
    "          shell=True, check=True, capture_output=True, text=False)\n",
    "    \n",
    "    return [int(x) for x in str(result.stdout, encoding='utf-8').splitlines()]"
   ]
  },
  {
   "cell_type": "code",
   "execution_count": null,
   "id": "985d5e17",
   "metadata": {},
   "outputs": [],
   "source": [
    "def plot_compress(ys):\n",
    "    xs = [x for x in range(len(ys))]\n",
    "    plt.plot(xs, ys)\n",
    "    plt.show()\n",
    "    # Make sure to close the plt object once done\n",
    "    plt.close()"
   ]
  },
  {
   "cell_type": "code",
   "execution_count": null,
   "id": "a8ac3b92",
   "metadata": {},
   "outputs": [],
   "source": [
    "def plot_hist(ys, bins=10):\n",
    "    npa = np.asarray(ys, dtype=np.float32)\n",
    "    plt.hist(npa, bins)\n",
    "    plt.show()"
   ]
  },
  {
   "cell_type": "code",
   "execution_count": null,
   "id": "4b705591",
   "metadata": {},
   "outputs": [],
   "source": [
    "ys=get_compress_size(dataset=\"datasets/CLOUDf48.bin.f32\", compressor=\"zfp\", nprocs=\"100\")"
   ]
  },
  {
   "cell_type": "code",
   "execution_count": null,
   "id": "370d05b0",
   "metadata": {},
   "outputs": [],
   "source": [
    "plot_compress(ys)"
   ]
  },
  {
   "cell_type": "code",
   "execution_count": null,
   "id": "cb7c65fa",
   "metadata": {},
   "outputs": [],
   "source": [
    "plot_hist(ys)"
   ]
  },
  {
   "cell_type": "code",
   "execution_count": null,
   "id": "2cf969c2",
   "metadata": {},
   "outputs": [],
   "source": [
    "ys=read_dist('sz-100-slice')"
   ]
  },
  {
   "cell_type": "code",
   "execution_count": null,
   "id": "b1a15860",
   "metadata": {},
   "outputs": [],
   "source": [
    "plot_compress(ys)"
   ]
  },
  {
   "cell_type": "code",
   "execution_count": null,
   "id": "828f563d",
   "metadata": {},
   "outputs": [],
   "source": [
    "plot_hist(ys)"
   ]
  },
  {
   "cell_type": "code",
   "execution_count": null,
   "id": "5ba9f9a2",
   "metadata": {},
   "outputs": [],
   "source": [
    "ys=read_dist('zfp-25-slice')"
   ]
  },
  {
   "cell_type": "code",
   "execution_count": null,
   "id": "a02cffbf",
   "metadata": {},
   "outputs": [],
   "source": [
    "plot_compress(ys)"
   ]
  },
  {
   "cell_type": "code",
   "execution_count": null,
   "id": "3bebfdce",
   "metadata": {},
   "outputs": [],
   "source": [
    "plot_hist(ys)"
   ]
  },
  {
   "cell_type": "code",
   "execution_count": null,
   "id": "3738444a",
   "metadata": {},
   "outputs": [],
   "source": [
    "ys=read_dist('sz-25-slice')"
   ]
  },
  {
   "cell_type": "code",
   "execution_count": null,
   "id": "e2cfaffa",
   "metadata": {},
   "outputs": [],
   "source": [
    "plot_compress(ys)"
   ]
  },
  {
   "cell_type": "code",
   "execution_count": null,
   "id": "55c1b328",
   "metadata": {},
   "outputs": [],
   "source": [
    "plot_hist(ys)"
   ]
  },
  {
   "cell_type": "markdown",
   "id": "5f9b39f0",
   "metadata": {},
   "source": [
    "## Test 1D interpolations\n",
    "\n",
    "https://docs.scipy.org/doc/scipy/tutorial/interpolate/1D.html"
   ]
  },
  {
   "cell_type": "code",
   "execution_count": null,
   "id": "b40d243b",
   "metadata": {},
   "outputs": [],
   "source": [
    "def gen_1d(y, orig, new):\n",
    "    npy=np.array(y)\n",
    "    xnew = np.linspace(0, len(npy), num=new)\n",
    "    return np.interp(xnew, range(len(npy)), npy)"
   ]
  },
  {
   "cell_type": "code",
   "execution_count": null,
   "id": "ae827895",
   "metadata": {},
   "outputs": [],
   "source": [
    "sample=4"
   ]
  },
  {
   "cell_type": "code",
   "execution_count": null,
   "id": "b3c66fd3",
   "metadata": {},
   "outputs": [],
   "source": [
    "scale=10"
   ]
  },
  {
   "cell_type": "code",
   "execution_count": null,
   "id": "0abf297f",
   "metadata": {},
   "outputs": [],
   "source": [
    "ys=get_compress_size(dataset=\"datasets/CLOUDf48.bin.f32\", compressor=\"zfp\", nprocs=sample)"
   ]
  },
  {
   "cell_type": "code",
   "execution_count": null,
   "id": "f5d8b139",
   "metadata": {},
   "outputs": [],
   "source": [
    "plot_compress(ys)"
   ]
  },
  {
   "cell_type": "code",
   "execution_count": null,
   "id": "fc676a1b",
   "metadata": {},
   "outputs": [],
   "source": [
    "plot_compress(gen_1d(ys, sample, scale))"
   ]
  },
  {
   "cell_type": "code",
   "execution_count": null,
   "id": "e48bc5d2",
   "metadata": {},
   "outputs": [],
   "source": [
    "plot_compress(gen_1d(ys, sample, 100))"
   ]
  },
  {
   "cell_type": "code",
   "execution_count": null,
   "id": "028e777c",
   "metadata": {},
   "outputs": [],
   "source": [
    "sample=100"
   ]
  },
  {
   "cell_type": "code",
   "execution_count": null,
   "id": "c071ceb6",
   "metadata": {},
   "outputs": [],
   "source": [
    "ys=get_compress_size(dataset=\"datasets/CLOUDf48.bin.f32\", compressor=\"zfp\", nprocs=sample)"
   ]
  },
  {
   "cell_type": "code",
   "execution_count": null,
   "id": "33289f5a",
   "metadata": {},
   "outputs": [],
   "source": [
    "plot_compress(ys)"
   ]
  },
  {
   "cell_type": "code",
   "execution_count": null,
   "id": "fb0c5023",
   "metadata": {},
   "outputs": [],
   "source": [
    "sample"
   ]
  },
  {
   "cell_type": "code",
   "execution_count": null,
   "id": "6976ca44",
   "metadata": {},
   "outputs": [],
   "source": [
    "plot_compress(gen_1d(ys, sample, 1000))"
   ]
  },
  {
   "cell_type": "code",
   "execution_count": null,
   "id": "a7b1b096",
   "metadata": {},
   "outputs": [],
   "source": [
    "plot_hist(ys, 50)"
   ]
  },
  {
   "cell_type": "code",
   "execution_count": null,
   "id": "8a892282",
   "metadata": {},
   "outputs": [],
   "source": [
    "plot_hist(gen_1d(ys, sample, 1000), 50)"
   ]
  },
  {
   "cell_type": "markdown",
   "id": "2e7013d2",
   "metadata": {},
   "source": [
    "## Tri-linear with scipy interpn\n",
    "\n",
    "Documentation of [interpn()](https://docs.scipy.org/doc/scipy/reference/generated/scipy.interpolate.interpn.html#scipy.interpolate.interpn)\n",
    "\n",
    "Code based on example from documentation"
   ]
  },
  {
   "cell_type": "code",
   "execution_count": null,
   "id": "a228a241",
   "metadata": {},
   "outputs": [],
   "source": [
    "ys=get_compress_size(dataset=\"datasets/CLOUDf48.bin.f32\", compressor=\"zfp\", nprocs=\"25\")"
   ]
  },
  {
   "cell_type": "code",
   "execution_count": null,
   "id": "7564e0fa",
   "metadata": {},
   "outputs": [],
   "source": [
    "g_truth = get_compress_size(dataset=\"datasets/CLOUDf48.bin.f32\", compressor=\"zfp\", nprocs=\"100\")"
   ]
  },
  {
   "cell_type": "code",
   "execution_count": null,
   "id": "0aebc5be",
   "metadata": {},
   "outputs": [],
   "source": [
    "ys=np.array(ys)"
   ]
  },
  {
   "cell_type": "code",
   "execution_count": null,
   "id": "dfe267fe",
   "metadata": {},
   "outputs": [],
   "source": [
    "yidx = np.array(range(len(ys)))"
   ]
  },
  {
   "cell_type": "code",
   "execution_count": null,
   "id": "fb064097",
   "metadata": {},
   "outputs": [],
   "source": [
    "newy = np.linspace(0, len(ys)-1, 100)"
   ]
  },
  {
   "cell_type": "code",
   "execution_count": null,
   "id": "1d19ead3",
   "metadata": {},
   "outputs": [],
   "source": [
    "genval=interpn((yidx,), ys, newy)"
   ]
  },
  {
   "cell_type": "code",
   "execution_count": null,
   "id": "bb089925",
   "metadata": {},
   "outputs": [],
   "source": [
    "plot_compress(ys)"
   ]
  },
  {
   "cell_type": "code",
   "execution_count": null,
   "id": "f3c7457c",
   "metadata": {},
   "outputs": [],
   "source": [
    "plot_compress(genval)"
   ]
  },
  {
   "cell_type": "code",
   "execution_count": null,
   "id": "c47c0b67",
   "metadata": {},
   "outputs": [],
   "source": [
    "plot_compress(g_truth)"
   ]
  },
  {
   "cell_type": "code",
   "execution_count": null,
   "id": "b730d30b",
   "metadata": {},
   "outputs": [],
   "source": [
    "plot_hist(ys)"
   ]
  },
  {
   "cell_type": "code",
   "execution_count": null,
   "id": "3aafe007",
   "metadata": {},
   "outputs": [],
   "source": [
    "plot_hist(genval)"
   ]
  },
  {
   "cell_type": "code",
   "execution_count": null,
   "id": "da62c16a",
   "metadata": {},
   "outputs": [],
   "source": [
    "plot_hist(g_truth)"
   ]
  }
 ],
 "metadata": {
  "language_info": {
   "name": "python",
   "pygments_lexer": "ipython3"
  }
 },
 "nbformat": 4,
 "nbformat_minor": 5
}
