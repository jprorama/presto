{
 "cells": [
  {
   "cell_type": "code",
   "execution_count": null,
   "id": "54fc314e",
   "metadata": {},
   "outputs": [],
   "source": [
    "import matplotlib.pyplot as plt\n",
    "import numpy as np\n",
    "import subprocess as sp"
   ]
  },
  {
   "cell_type": "code",
   "execution_count": null,
   "id": "9667e4fc",
   "metadata": {},
   "outputs": [],
   "source": [
    "def read_dist(filename):\n",
    "    with open(filename) as f:\n",
    "        #w, h = [int(x) for x in next(f).split()] # read first line\n",
    "        ys = []\n",
    "        for line in f: # read rest of lines\n",
    "            ys.append([int(x) for x in line.split()])\n",
    "        return ys"
   ]
  },
  {
   "cell_type": "code",
   "execution_count": null,
   "id": "3ebd2706",
   "metadata": {},
   "outputs": [],
   "source": [
    "def get_compress_size(dataset, compressor=\"sz\", nprocs=1):\n",
    "    '''\n",
    "    calls the libpressio container via runcmd wrapper\n",
    "    returns the compressed size across the given commpressor and \n",
    "    process count extracted from json\n",
    "    '''\n",
    "    result = sp.run(f\"./runcmd data_dist.py {nprocs} | jq '.{compressor}[].metrics[\\\"size:compressed_size\\\"]'\",\n",
    "          shell=True, check=True, capture_output=True, text=False)\n",
    "    \n",
    "    return [int(x) for x in str(result.stdout, encoding='utf-8').splitlines()]"
   ]
  },
  {
   "cell_type": "code",
   "execution_count": null,
   "id": "985d5e17",
   "metadata": {},
   "outputs": [],
   "source": [
    "def plot_compress(ys):\n",
    "    xs = [x for x in range(len(ys))]\n",
    "    plt.plot(xs, ys)\n",
    "    plt.show()\n",
    "    # Make sure to close the plt object once done\n",
    "    plt.close()"
   ]
  },
  {
   "cell_type": "code",
   "execution_count": null,
   "id": "a8ac3b92",
   "metadata": {},
   "outputs": [],
   "source": [
    "def plot_hist(ys):\n",
    "    npa = np.asarray(ys, dtype=np.float32)\n",
    "    plt.hist(npa)\n",
    "    plt.show()"
   ]
  },
  {
   "cell_type": "code",
   "execution_count": null,
   "id": "72cff834",
   "metadata": {},
   "outputs": [],
   "source": [
    "ys=get_compress_size(dataset=\"\", compressor=\"zfp\", nprocs=\"100\")"
   ]
  },
  {
   "cell_type": "code",
   "execution_count": null,
   "id": "370d05b0",
   "metadata": {},
   "outputs": [],
   "source": [
    "plot_compress(ys)"
   ]
  },
  {
   "cell_type": "code",
   "execution_count": null,
   "id": "cb7c65fa",
   "metadata": {},
   "outputs": [],
   "source": [
    "plot_hist(ys)"
   ]
  },
  {
   "cell_type": "code",
   "execution_count": null,
   "id": "2cf969c2",
   "metadata": {},
   "outputs": [],
   "source": [
    "ys=read_dist('sz-100-slice')"
   ]
  },
  {
   "cell_type": "code",
   "execution_count": null,
   "id": "b1a15860",
   "metadata": {},
   "outputs": [],
   "source": [
    "plot_compress(ys)"
   ]
  },
  {
   "cell_type": "code",
   "execution_count": null,
   "id": "828f563d",
   "metadata": {},
   "outputs": [],
   "source": [
    "plot_hist(ys)"
   ]
  },
  {
   "cell_type": "code",
   "execution_count": null,
   "id": "5ba9f9a2",
   "metadata": {},
   "outputs": [],
   "source": [
    "ys=read_dist('zfp-25-slice')"
   ]
  },
  {
   "cell_type": "code",
   "execution_count": null,
   "id": "a02cffbf",
   "metadata": {},
   "outputs": [],
   "source": [
    "plot_compress(ys)"
   ]
  },
  {
   "cell_type": "code",
   "execution_count": null,
   "id": "3bebfdce",
   "metadata": {},
   "outputs": [],
   "source": [
    "plot_hist(ys)"
   ]
  },
  {
   "cell_type": "code",
   "execution_count": null,
   "id": "3738444a",
   "metadata": {},
   "outputs": [],
   "source": [
    "ys=read_dist('sz-25-slice')"
   ]
  },
  {
   "cell_type": "code",
   "execution_count": null,
   "id": "e2cfaffa",
   "metadata": {},
   "outputs": [],
   "source": [
    "plot_compress(ys)"
   ]
  },
  {
   "cell_type": "code",
   "execution_count": null,
   "id": "55c1b328",
   "metadata": {},
   "outputs": [],
   "source": [
    "plot_hist(ys)"
   ]
  }
 ],
 "metadata": {
  "language_info": {
   "name": "python",
   "pygments_lexer": "ipython3"
  }
 },
 "nbformat": 4,
 "nbformat_minor": 5
}
