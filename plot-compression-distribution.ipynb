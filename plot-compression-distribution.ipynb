{
 "cells": [
  {
   "cell_type": "code",
   "execution_count": null,
   "id": "54fc314e",
   "metadata": {},
   "outputs": [],
   "source": [
    "import matplotlib.pyplot as plt\n",
    "import numpy as np\n",
    "import subprocess as sp\n",
    "from scipy.interpolate import interpn"
   ]
  },
  {
   "cell_type": "code",
   "execution_count": null,
   "id": "9667e4fc",
   "metadata": {},
   "outputs": [],
   "source": [
    "def read_dist(filename):\n",
    "    with open(filename) as f:\n",
    "        #w, h = [int(x) for x in next(f).split()] # read first line\n",
    "        ys = []\n",
    "        for line in f: # read rest of lines\n",
    "            ys.append([int(x) for x in line.split()])\n",
    "        return ys"
   ]
  },
  {
   "cell_type": "code",
   "execution_count": null,
   "id": "09d6e89b",
   "metadata": {},
   "outputs": [],
   "source": [
    "def get_compress_size(dataset, compressor=\"sz\", nprocs=1):\n",
    "    '''\n",
    "    calls the libpressio container via runcmd wrapper\n",
    "    returns the compressed size across the given commpressor and \n",
    "    process count extracted from json\n",
    "    '''\n",
    "    result = sp.run(f\"./runcmd data_dist.py -n {nprocs} -j {dataset} | jq '.{compressor}[].metrics[\\\"size:compressed_size\\\"]'\",\n",
    "          shell=True, check=True, capture_output=True, text=False)\n",
    "    \n",
    "    return [int(x) for x in str(result.stdout, encoding='utf-8').splitlines()]"
   ]
  },
  {
   "cell_type": "code",
   "execution_count": null,
   "id": "985d5e17",
   "metadata": {},
   "outputs": [],
   "source": [
    "def plot_compress(ys):\n",
    "    xs = [x for x in range(len(ys))]\n",
    "    plt.plot(xs, ys)\n",
    "    plt.show()\n",
    "    # Make sure to close the plt object once done\n",
    "    plt.close()"
   ]
  },
  {
   "cell_type": "code",
   "execution_count": null,
   "id": "a8ac3b92",
   "metadata": {},
   "outputs": [],
   "source": [
    "def plot_hist(ys, bins=10):\n",
    "    npa = np.asarray(ys, dtype=np.float32)\n",
    "    plt.hist(npa, bins)\n",
    "    plt.show()"
   ]
  },
  {
   "cell_type": "code",
   "execution_count": null,
   "id": "4b705591",
   "metadata": {},
   "outputs": [],
   "source": [
    "ys=get_compress_size(dataset=\"datasets/CLOUDf48.bin.f32\", compressor=\"zfp\", nprocs=\"100\")"
   ]
  },
  {
   "cell_type": "code",
   "execution_count": null,
   "id": "370d05b0",
   "metadata": {},
   "outputs": [],
   "source": [
    "plot_compress(ys)"
   ]
  },
  {
   "cell_type": "code",
   "execution_count": null,
   "id": "cb7c65fa",
   "metadata": {},
   "outputs": [],
   "source": [
    "plot_hist(ys)"
   ]
  },
  {
   "cell_type": "code",
   "execution_count": null,
   "id": "2cf969c2",
   "metadata": {},
   "outputs": [],
   "source": [
    "ys=read_dist('sz-100-slice')"
   ]
  },
  {
   "cell_type": "code",
   "execution_count": null,
   "id": "b1a15860",
   "metadata": {},
   "outputs": [],
   "source": [
    "plot_compress(ys)"
   ]
  },
  {
   "cell_type": "code",
   "execution_count": null,
   "id": "828f563d",
   "metadata": {},
   "outputs": [],
   "source": [
    "plot_hist(ys)"
   ]
  },
  {
   "cell_type": "code",
   "execution_count": null,
   "id": "5ba9f9a2",
   "metadata": {},
   "outputs": [],
   "source": [
    "ys=read_dist('zfp-25-slice')"
   ]
  },
  {
   "cell_type": "code",
   "execution_count": null,
   "id": "a02cffbf",
   "metadata": {},
   "outputs": [],
   "source": [
    "plot_compress(ys)"
   ]
  },
  {
   "cell_type": "code",
   "execution_count": null,
   "id": "3bebfdce",
   "metadata": {},
   "outputs": [],
   "source": [
    "plot_hist(ys)"
   ]
  },
  {
   "cell_type": "code",
   "execution_count": null,
   "id": "3738444a",
   "metadata": {},
   "outputs": [],
   "source": [
    "ys=read_dist('sz-25-slice')"
   ]
  },
  {
   "cell_type": "code",
   "execution_count": null,
   "id": "e2cfaffa",
   "metadata": {},
   "outputs": [],
   "source": [
    "plot_compress(ys)"
   ]
  },
  {
   "cell_type": "code",
   "execution_count": null,
   "id": "55c1b328",
   "metadata": {},
   "outputs": [],
   "source": [
    "plot_hist(ys)"
   ]
  },
  {
   "cell_type": "markdown",
   "id": "e95907c1",
   "metadata": {},
   "source": [
    "## Test 1D interpolations\n",
    "\n",
    "https://docs.scipy.org/doc/scipy/tutorial/interpolate/1D.html"
   ]
  },
  {
   "cell_type": "code",
   "execution_count": null,
   "id": "b163f657",
   "metadata": {},
   "outputs": [],
   "source": [
    "def gen_1d(y, orig, new):\n",
    "    npy=np.array(y)\n",
    "    xnew = np.linspace(0, len(npy), num=new)\n",
    "    return np.interp(xnew, range(len(npy)), npy)"
   ]
  },
  {
   "cell_type": "code",
   "execution_count": null,
   "id": "ad53a208",
   "metadata": {},
   "outputs": [],
   "source": [
    "sample=4"
   ]
  },
  {
   "cell_type": "code",
   "execution_count": null,
   "id": "298c64fb",
   "metadata": {},
   "outputs": [],
   "source": [
    "scale=10"
   ]
  },
  {
   "cell_type": "code",
   "execution_count": null,
   "id": "2cfcffef",
   "metadata": {},
   "outputs": [],
   "source": [
    "ys=get_compress_size(dataset=\"datasets/CLOUDf48.bin.f32\", compressor=\"zfp\", nprocs=sample)"
   ]
  },
  {
   "cell_type": "code",
   "execution_count": null,
   "id": "b0487a73",
   "metadata": {},
   "outputs": [],
   "source": [
    "plot_compress(ys)"
   ]
  },
  {
   "cell_type": "code",
   "execution_count": null,
   "id": "1d7c7d02",
   "metadata": {},
   "outputs": [],
   "source": [
    "plot_compress(gen_1d(ys, sample, scale))"
   ]
  },
  {
   "cell_type": "code",
   "execution_count": null,
   "id": "fa3f2f88",
   "metadata": {},
   "outputs": [],
   "source": [
    "plot_compress(gen_1d(ys, sample, 100))"
   ]
  },
  {
   "cell_type": "code",
   "execution_count": null,
   "id": "df943fd8",
   "metadata": {},
   "outputs": [],
   "source": [
    "sample=100"
   ]
  },
  {
   "cell_type": "code",
   "execution_count": null,
   "id": "46cf1f54",
   "metadata": {},
   "outputs": [],
   "source": [
    "ys=get_compress_size(dataset=\"datasets/CLOUDf48.bin.f32\", compressor=\"zfp\", nprocs=sample)"
   ]
  },
  {
   "cell_type": "code",
   "execution_count": null,
   "id": "d4e55cd8",
   "metadata": {},
   "outputs": [],
   "source": [
    "plot_compress(ys)"
   ]
  },
  {
   "cell_type": "code",
   "execution_count": null,
   "id": "961a8940",
   "metadata": {},
   "outputs": [],
   "source": [
    "sample"
   ]
  },
  {
   "cell_type": "code",
   "execution_count": null,
   "id": "0b8dbdb4",
   "metadata": {},
   "outputs": [],
   "source": [
    "plot_compress(gen_1d(ys, sample, 1000))"
   ]
  },
  {
   "cell_type": "code",
   "execution_count": null,
   "id": "8be17b83",
   "metadata": {},
   "outputs": [],
   "source": [
    "plot_hist(ys, 50)"
   ]
  },
  {
   "cell_type": "code",
   "execution_count": null,
   "id": "d128242d",
   "metadata": {},
   "outputs": [],
   "source": [
    "plot_hist(gen_1d(ys, sample, 1000), 50)"
   ]
  },
  {
   "cell_type": "markdown",
   "id": "e28dac82",
   "metadata": {},
   "source": [
    "## Tri-linear with scipy interpn\n",
    "\n",
    "Test the function, but it's not working right in 1D\n",
    "\n",
    "Code is from documentation and attempt to map it to 1D values in y causes dimension error"
   ]
  },
  {
   "cell_type": "code",
   "execution_count": null,
   "id": "33510803",
   "metadata": {},
   "outputs": [],
   "source": [
    "def value_func_3d(x, y, z):\n",
    "\n",
    "    return 2 * x + 3 * y - z"
   ]
  },
  {
   "cell_type": "code",
   "execution_count": null,
   "id": "22dd6f5b",
   "metadata": {},
   "outputs": [],
   "source": [
    "x = np.linspace(0, 4, 5)\n",
    "\n",
    "y = np.linspace(0, 5, 6)\n",
    "\n",
    "z = np.linspace(0, 6, 7)\n",
    "\n",
    "points = (x, y, z)"
   ]
  },
  {
   "cell_type": "code",
   "execution_count": null,
   "id": "838ddfd9",
   "metadata": {},
   "outputs": [],
   "source": [
    "points"
   ]
  },
  {
   "cell_type": "code",
   "execution_count": null,
   "id": "30c69757",
   "metadata": {},
   "outputs": [],
   "source": [
    "len(points)"
   ]
  },
  {
   "cell_type": "code",
   "execution_count": null,
   "id": "b4d4f24f",
   "metadata": {},
   "outputs": [],
   "source": [
    "np.meshgrid(*points, indexing='ij')"
   ]
  },
  {
   "cell_type": "code",
   "execution_count": null,
   "id": "138ede06",
   "metadata": {},
   "outputs": [],
   "source": [
    "values = value_func_3d(*np.meshgrid(*points, indexing='ij'))"
   ]
  },
  {
   "cell_type": "code",
   "execution_count": null,
   "id": "e2b5dc6f",
   "metadata": {},
   "outputs": [],
   "source": [
    "values"
   ]
  },
  {
   "cell_type": "code",
   "execution_count": null,
   "id": "49b57213",
   "metadata": {},
   "outputs": [],
   "source": [
    "point = np.array([2.21, 3.12, 1.15])\n",
    "\n",
    "print(interpn(points, values, point))"
   ]
  },
  {
   "cell_type": "code",
   "execution_count": null,
   "id": "631d55f1",
   "metadata": {},
   "outputs": [],
   "source": [
    "ys=get_compress_size(dataset=\"datasets/CLOUDf48.bin.f32\", compressor=\"zfp\", nprocs=\"4\")"
   ]
  },
  {
   "cell_type": "code",
   "execution_count": null,
   "id": "3918cfbd",
   "metadata": {},
   "outputs": [],
   "source": [
    "len(ys)"
   ]
  },
  {
   "cell_type": "code",
   "execution_count": null,
   "id": "22e78b06",
   "metadata": {},
   "outputs": [],
   "source": [
    "npy = np.array(ys)"
   ]
  },
  {
   "cell_type": "code",
   "execution_count": null,
   "id": "3b8a3a18",
   "metadata": {},
   "outputs": [],
   "source": [
    "np.shape(npy)"
   ]
  },
  {
   "cell_type": "code",
   "execution_count": null,
   "id": "cbdc2f06",
   "metadata": {},
   "outputs": [],
   "source": [
    "newy = np.linspace(0,len(npy), 10)"
   ]
  },
  {
   "cell_type": "code",
   "execution_count": null,
   "id": "0eb229d8",
   "metadata": {},
   "outputs": [],
   "source": [
    "len(newy)"
   ]
  },
  {
   "cell_type": "code",
   "execution_count": null,
   "id": "f6f3318a",
   "metadata": {},
   "outputs": [],
   "source": [
    "newy"
   ]
  },
  {
   "cell_type": "code",
   "execution_count": null,
   "id": "404c71a2",
   "metadata": {},
   "outputs": [],
   "source": [
    "newy[1]"
   ]
  },
  {
   "cell_type": "code",
   "execution_count": null,
   "id": "a113f681",
   "metadata": {},
   "outputs": [],
   "source": [
    "npy[1]"
   ]
  },
  {
   "cell_type": "code",
   "execution_count": null,
   "id": "a4031910",
   "metadata": {},
   "outputs": [],
   "source": [
    "type(newy)"
   ]
  },
  {
   "cell_type": "code",
   "execution_count": null,
   "id": "9de42d1b",
   "metadata": {},
   "outputs": [],
   "source": [
    "newy.size"
   ]
  },
  {
   "cell_type": "code",
   "execution_count": null,
   "id": "dd9650db",
   "metadata": {},
   "outputs": [],
   "source": [
    "np.shape([npy])"
   ]
  },
  {
   "cell_type": "code",
   "execution_count": null,
   "id": "02855584",
   "metadata": {},
   "outputs": [],
   "source": [
    "len((npy))"
   ]
  },
  {
   "cell_type": "code",
   "execution_count": null,
   "id": "24d6c496",
   "metadata": {},
   "outputs": [],
   "source": [
    "(newy)"
   ]
  },
  {
   "cell_type": "code",
   "execution_count": null,
   "id": "8bcf9783",
   "metadata": {},
   "outputs": [],
   "source": [
    "33interpn([npy], npy, [newy[1]])"
   ]
  }
 ],
 "metadata": {
  "language_info": {
   "name": "python",
   "pygments_lexer": "ipython3"
  }
 },
 "nbformat": 4,
 "nbformat_minor": 5
}
