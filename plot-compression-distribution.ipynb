{
 "cells": [
  {
   "cell_type": "code",
   "execution_count": null,
   "id": "54fc314e",
   "metadata": {},
   "outputs": [],
   "source": [
    "import matplotlib.pyplot as plt\n",
    "import numpy as np\n",
    "import subprocess as sp\n",
    "from scipy.interpolate import interpn"
   ]
  },
  {
   "cell_type": "code",
   "execution_count": null,
   "id": "9667e4fc",
   "metadata": {},
   "outputs": [],
   "source": [
    "def read_dist(filename):\n",
    "    with open(filename) as f:\n",
    "        #w, h = [int(x) for x in next(f).split()] # read first line\n",
    "        ys = []\n",
    "        for line in f: # read rest of lines\n",
    "            ys.append([int(x) for x in line.split()])\n",
    "        return ys"
   ]
  },
  {
   "cell_type": "code",
   "execution_count": null,
   "id": "09d6e89b",
   "metadata": {},
   "outputs": [],
   "source": [
    "def get_compress_size(dataset, compressor=\"sz\", nprocs=1):\n",
    "    '''\n",
    "    calls the libpressio container via runcmd wrapper\n",
    "    returns the compressed size across the given commpressor and \n",
    "    process count extracted from json\n",
    "    '''\n",
    "    result = sp.run(f\"./runcmd data_dist.py -n {nprocs} -j {dataset} | jq '.{compressor}[].metrics[\\\"size:compressed_size\\\"]'\",\n",
    "          shell=True, check=True, capture_output=True, text=False)\n",
    "    \n",
    "    return [int(x) for x in str(result.stdout, encoding='utf-8').splitlines()]"
   ]
  },
  {
   "cell_type": "code",
   "execution_count": null,
   "id": "985d5e17",
   "metadata": {},
   "outputs": [],
   "source": [
    "def plot_compress(ys):\n",
    "    xs = [x for x in range(len(ys))]\n",
    "    plt.plot(xs, ys)\n",
    "    plt.show()\n",
    "    # Make sure to close the plt object once done\n",
    "    plt.close()"
   ]
  },
  {
   "cell_type": "code",
   "execution_count": null,
   "id": "a8ac3b92",
   "metadata": {},
   "outputs": [],
   "source": [
    "def plot_hist(ys, bins=10):\n",
    "    npa = np.asarray(ys, dtype=np.float32)\n",
    "    plt.hist(npa, bins)\n",
    "    plt.show()"
   ]
  },
  {
   "cell_type": "code",
   "execution_count": null,
   "id": "4b705591",
   "metadata": {},
   "outputs": [],
   "source": [
    "ys=get_compress_size(dataset=\"datasets/CLOUDf48.bin.f32\", compressor=\"zfp\", nprocs=\"100\")"
   ]
  },
  {
   "cell_type": "code",
   "execution_count": null,
   "id": "370d05b0",
   "metadata": {},
   "outputs": [],
   "source": [
    "plot_compress(ys)"
   ]
  },
  {
   "cell_type": "code",
   "execution_count": null,
   "id": "cb7c65fa",
   "metadata": {},
   "outputs": [],
   "source": [
    "plot_hist(ys)"
   ]
  },
  {
   "cell_type": "code",
   "execution_count": null,
   "id": "2cf969c2",
   "metadata": {},
   "outputs": [],
   "source": [
    "ys=read_dist('sz-100-slice')"
   ]
  },
  {
   "cell_type": "code",
   "execution_count": null,
   "id": "b1a15860",
   "metadata": {},
   "outputs": [],
   "source": [
    "plot_compress(ys)"
   ]
  },
  {
   "cell_type": "code",
   "execution_count": null,
   "id": "828f563d",
   "metadata": {},
   "outputs": [],
   "source": [
    "plot_hist(ys)"
   ]
  },
  {
   "cell_type": "code",
   "execution_count": null,
   "id": "5ba9f9a2",
   "metadata": {},
   "outputs": [],
   "source": [
    "ys=read_dist('zfp-25-slice')"
   ]
  },
  {
   "cell_type": "code",
   "execution_count": null,
   "id": "a02cffbf",
   "metadata": {},
   "outputs": [],
   "source": [
    "plot_compress(ys)"
   ]
  },
  {
   "cell_type": "code",
   "execution_count": null,
   "id": "3bebfdce",
   "metadata": {},
   "outputs": [],
   "source": [
    "plot_hist(ys)"
   ]
  },
  {
   "cell_type": "code",
   "execution_count": null,
   "id": "3738444a",
   "metadata": {},
   "outputs": [],
   "source": [
    "ys=read_dist('sz-25-slice')"
   ]
  },
  {
   "cell_type": "code",
   "execution_count": null,
   "id": "e2cfaffa",
   "metadata": {},
   "outputs": [],
   "source": [
    "plot_compress(ys)"
   ]
  },
  {
   "cell_type": "code",
   "execution_count": null,
   "id": "55c1b328",
   "metadata": {},
   "outputs": [],
   "source": [
    "plot_hist(ys)"
   ]
  },
  {
   "cell_type": "markdown",
   "id": "24c2f27a",
   "metadata": {},
   "source": [
    "## Test 1D interpolations\n",
    "\n",
    "https://docs.scipy.org/doc/scipy/tutorial/interpolate/1D.html"
   ]
  },
  {
   "cell_type": "code",
   "execution_count": null,
   "id": "3d575b6c",
   "metadata": {},
   "outputs": [],
   "source": [
    "def gen_1d(y, orig, new):\n",
    "    npy=np.array(y)\n",
    "    xnew = np.linspace(0, len(npy), num=new)\n",
    "    return np.interp(xnew, range(len(npy)), npy)"
   ]
  },
  {
   "cell_type": "code",
   "execution_count": null,
   "id": "c10265bf",
   "metadata": {},
   "outputs": [],
   "source": [
    "sample=4"
   ]
  },
  {
   "cell_type": "code",
   "execution_count": null,
   "id": "189072b2",
   "metadata": {},
   "outputs": [],
   "source": [
    "scale=10"
   ]
  },
  {
   "cell_type": "code",
   "execution_count": null,
   "id": "c4479497",
   "metadata": {},
   "outputs": [],
   "source": [
    "ys=get_compress_size(dataset=\"datasets/CLOUDf48.bin.f32\", compressor=\"zfp\", nprocs=sample)"
   ]
  },
  {
   "cell_type": "code",
   "execution_count": null,
   "id": "a70c4557",
   "metadata": {},
   "outputs": [],
   "source": [
    "plot_compress(ys)"
   ]
  },
  {
   "cell_type": "code",
   "execution_count": null,
   "id": "ac7e5d56",
   "metadata": {},
   "outputs": [],
   "source": [
    "plot_compress(gen_1d(ys, sample, scale))"
   ]
  },
  {
   "cell_type": "code",
   "execution_count": null,
   "id": "852ccc34",
   "metadata": {},
   "outputs": [],
   "source": [
    "plot_compress(gen_1d(ys, sample, 100))"
   ]
  },
  {
   "cell_type": "code",
   "execution_count": null,
   "id": "7621c93e",
   "metadata": {},
   "outputs": [],
   "source": [
    "sample=100"
   ]
  },
  {
   "cell_type": "code",
   "execution_count": null,
   "id": "92acc35f",
   "metadata": {},
   "outputs": [],
   "source": [
    "ys=get_compress_size(dataset=\"datasets/CLOUDf48.bin.f32\", compressor=\"zfp\", nprocs=sample)"
   ]
  },
  {
   "cell_type": "code",
   "execution_count": null,
   "id": "87144196",
   "metadata": {},
   "outputs": [],
   "source": [
    "plot_compress(ys)"
   ]
  },
  {
   "cell_type": "code",
   "execution_count": null,
   "id": "8b80abb3",
   "metadata": {},
   "outputs": [],
   "source": [
    "sample"
   ]
  },
  {
   "cell_type": "code",
   "execution_count": null,
   "id": "440bb04f",
   "metadata": {},
   "outputs": [],
   "source": [
    "plot_compress(gen_1d(ys, sample, 1000))"
   ]
  },
  {
   "cell_type": "code",
   "execution_count": null,
   "id": "e215709e",
   "metadata": {},
   "outputs": [],
   "source": [
    "plot_hist(ys, 50)"
   ]
  },
  {
   "cell_type": "code",
   "execution_count": null,
   "id": "1b0f9314",
   "metadata": {},
   "outputs": [],
   "source": [
    "plot_hist(gen_1d(ys, sample, 1000), 50)"
   ]
  },
  {
   "cell_type": "markdown",
   "id": "62ae8658",
   "metadata": {},
   "source": [
    "## Tri-linear with scipy interpn\n",
    "\n",
    "Test the function, but it's not working right in 1D\n",
    "\n",
    "Code is from documentation and attempt to map it to 1D values in y causes dimension error"
   ]
  },
  {
   "cell_type": "code",
   "execution_count": null,
   "id": "12cdf9e1",
   "metadata": {},
   "outputs": [],
   "source": [
    "def value_func_3d(x, y, z):\n",
    "\n",
    "    return 2 * x + 3 * y - z"
   ]
  },
  {
   "cell_type": "code",
   "execution_count": null,
   "id": "a165e604",
   "metadata": {},
   "outputs": [],
   "source": [
    "x = np.linspace(0, 4, 5)\n",
    "\n",
    "y = np.linspace(0, 5, 6)\n",
    "\n",
    "z = np.linspace(0, 6, 7)\n",
    "\n",
    "points = (x, y, z)"
   ]
  },
  {
   "cell_type": "code",
   "execution_count": null,
   "id": "e01835d4",
   "metadata": {},
   "outputs": [],
   "source": [
    "points"
   ]
  },
  {
   "cell_type": "code",
   "execution_count": null,
   "id": "4215cd78",
   "metadata": {},
   "outputs": [],
   "source": [
    "len(points)"
   ]
  },
  {
   "cell_type": "code",
   "execution_count": null,
   "id": "c6633332",
   "metadata": {},
   "outputs": [],
   "source": [
    "mg = np.meshgrid(*points, indexing='ij')"
   ]
  },
  {
   "cell_type": "code",
   "execution_count": null,
   "id": "afd70f2c",
   "metadata": {},
   "outputs": [],
   "source": [
    "np.shape(mg)"
   ]
  },
  {
   "cell_type": "code",
   "execution_count": null,
   "id": "bc1f9565",
   "metadata": {},
   "outputs": [],
   "source": [
    "values = value_func_3d(*np.meshgrid(*points, indexing='ij'))"
   ]
  },
  {
   "cell_type": "code",
   "execution_count": null,
   "id": "2c75fab0",
   "metadata": {},
   "outputs": [],
   "source": [
    "values"
   ]
  },
  {
   "cell_type": "code",
   "execution_count": null,
   "id": "6c207f13",
   "metadata": {},
   "outputs": [],
   "source": [
    "np.shape(values)"
   ]
  },
  {
   "cell_type": "code",
   "execution_count": null,
   "id": "019792ba",
   "metadata": {},
   "outputs": [],
   "source": [
    "type(points)"
   ]
  },
  {
   "cell_type": "code",
   "execution_count": null,
   "id": "789e13f0",
   "metadata": {},
   "outputs": [],
   "source": [
    "point = np.array([2.21, 3.12, 1.15])"
   ]
  },
  {
   "cell_type": "code",
   "execution_count": null,
   "id": "5b131d79",
   "metadata": {},
   "outputs": [],
   "source": [
    "np.shape(point)"
   ]
  },
  {
   "cell_type": "code",
   "execution_count": null,
   "id": "aa480f58",
   "metadata": {},
   "outputs": [],
   "source": [
    "print(interpn(points, values, point))"
   ]
  },
  {
   "cell_type": "markdown",
   "id": "0d2107d3",
   "metadata": {},
   "source": [
    "### Plot Interpolation with scipy.interpn()"
   ]
  },
  {
   "cell_type": "code",
   "execution_count": null,
   "id": "2369fdd2",
   "metadata": {},
   "outputs": [],
   "source": [
    "ys=get_compress_size(dataset=\"datasets/CLOUDf48.bin.f32\", compressor=\"zfp\", nprocs=\"25\")"
   ]
  },
  {
   "cell_type": "code",
   "execution_count": null,
   "id": "440b9a91",
   "metadata": {},
   "outputs": [],
   "source": [
    "g_truth = get_compress_size(dataset=\"datasets/CLOUDf48.bin.f32\", compressor=\"zfp\", nprocs=\"100\")"
   ]
  },
  {
   "cell_type": "code",
   "execution_count": null,
   "id": "3b6e6138",
   "metadata": {},
   "outputs": [],
   "source": [
    "ys=np.array(ys)"
   ]
  },
  {
   "cell_type": "code",
   "execution_count": null,
   "id": "58af82f5",
   "metadata": {},
   "outputs": [],
   "source": [
    "yidx = np.array(range(len(ys)))"
   ]
  },
  {
   "cell_type": "code",
   "execution_count": null,
   "id": "5958b174",
   "metadata": {},
   "outputs": [],
   "source": [
    "newy = np.linspace(0, len(ys)-1, 100)"
   ]
  },
  {
   "cell_type": "code",
   "execution_count": null,
   "id": "bdd2879c",
   "metadata": {},
   "outputs": [],
   "source": [
    "genval=interpn((yidx,), ys, newy)"
   ]
  },
  {
   "cell_type": "code",
   "execution_count": null,
   "id": "ebb1a98f",
   "metadata": {},
   "outputs": [],
   "source": [
    "plot_compress(ys)"
   ]
  },
  {
   "cell_type": "code",
   "execution_count": null,
   "id": "86ae896b",
   "metadata": {},
   "outputs": [],
   "source": [
    "plot_compress(genval)"
   ]
  },
  {
   "cell_type": "code",
   "execution_count": null,
   "id": "97cb296c",
   "metadata": {},
   "outputs": [],
   "source": [
    "plot_compress(g_truth)"
   ]
  },
  {
   "cell_type": "code",
   "execution_count": null,
   "id": "6f9d6d58",
   "metadata": {},
   "outputs": [],
   "source": [
    "plot_hist(ys)"
   ]
  },
  {
   "cell_type": "code",
   "execution_count": null,
   "id": "452a1d34",
   "metadata": {},
   "outputs": [],
   "source": [
    "plot_hist(genval)"
   ]
  },
  {
   "cell_type": "code",
   "execution_count": null,
   "id": "ef19995c",
   "metadata": {},
   "outputs": [],
   "source": [
    "plot_hist(g_truth)"
   ]
  }
 ],
 "metadata": {
  "language_info": {
   "name": "python",
   "pygments_lexer": "ipython3"
  }
 },
 "nbformat": 4,
 "nbformat_minor": 5
}
